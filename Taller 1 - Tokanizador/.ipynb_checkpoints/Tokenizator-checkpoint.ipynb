{
 "cells": [
  {
   "cell_type": "code",
   "execution_count": 67,
   "metadata": {},
   "outputs": [
    {
     "name": "stdout",
     "output_type": "stream",
     "text": [
      "▁this is a▁test<sep>▁hello▁world<cls>\n"
     ]
    }
   ],
   "source": [
    "import sentencepiece as spm\n",
    "spm.SentencePieceTrainer.train('--input=tweets_clean.txt --model_prefix=m_word --model_type=word --vocab_size=2000')\n",
    "\n",
    "sp_word = spm.SentencePieceProcessor()\n",
    "sp_word.load('m_word.model')\n",
    "\n",
    "#print(sp_word.encode_as_pieces('this is a test<sep> hello world<cls>'))\n",
    "#print(sp_word.piece_to_id('<sep>'))\n",
    "#print(sp_word.piece_to_id('<cls>'))\n",
    "#print('3=',sp_word.decode_ids([3]))\n",
    "#print('4=',sp_word.decode_ids([4]))\n",
    "\n",
    "print(sp_word.decode_pieces(['▁this', '▁is', '▁a', '▁test<sep>▁hello▁world<cls>']))\n",
    "\n",
    "from tkinter import *\n",
    "from tkinter import ttk\n",
    "from tkinter import filedialog\n",
    "from tkinter.filedialog import askopenfilename\n",
    "\n",
    "#------------------------------------GUI-----------------------------------\n",
    "def tokenizer():\n",
    "    getting = txt.get()\n",
    "    res = sp_word.encode_as_pieces(getting)\n",
    "    finalres=\"\"\n",
    "\n",
    "    for i in range(0,len(res)):\n",
    "        finalres = finalres + res[i] + \"\\n\"\n",
    "        \n",
    "    lbl2.configure(text=finalres)\n",
    "\n",
    "#--Definir ventana\n",
    "window = Tk()\n",
    "window.title(\"SuperTOKENIZER\")\n",
    "window.geometry(\"670x500\")\n",
    "\n",
    "lbl = Label(window,text=\"\\n Ingresa el texto que desees tokenizar y presiona el botón correspondiente\")\n",
    "lbl.grid(column=0, row=0)\n",
    "\n",
    "txt = Entry(window,width=110)\n",
    "txt.grid(column=0, row=1)\n",
    "\n",
    "submit = Button(window, text=\"Tokenizar\", command=tokenizer)\n",
    "submit.grid(column=0, row=2)\n",
    "\n",
    "lbl2 = Label(window,text=\"\")\n",
    "lbl2.grid(column=0, row=3)\n",
    "\n",
    "  \n",
    "window.mainloop()"
   ]
  },
  {
   "cell_type": "code",
   "execution_count": null,
   "metadata": {},
   "outputs": [],
   "source": []
  }
 ],
 "metadata": {
  "kernelspec": {
   "display_name": "Python 3",
   "language": "python",
   "name": "python3"
  },
  "language_info": {
   "codemirror_mode": {
    "name": "ipython",
    "version": 3
   },
   "file_extension": ".py",
   "mimetype": "text/x-python",
   "name": "python",
   "nbconvert_exporter": "python",
   "pygments_lexer": "ipython3",
   "version": "3.6.5"
  }
 },
 "nbformat": 4,
 "nbformat_minor": 2
}
